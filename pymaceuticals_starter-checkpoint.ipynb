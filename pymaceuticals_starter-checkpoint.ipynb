{
 "cells": [
  {
   "cell_type": "markdown",
   "metadata": {},
   "source": [
    "## Observations and Insights"
   ]
  },
  {
   "cell_type": "markdown",
   "metadata": {},
   "source": [
    "1. In the line and scatter plots portion of the activity, we observed that\n",
    "    the higher the mice weight, the higher the average tumor volume will be \n",
    "    for the mice. \n",
    "2. In the quartiles and boxplots activity, I observed that the average\n",
    "    final tumor volume for the mice that were treated with Ramicane and\n",
    "    Capomulin were far less than those of the mice that were treatedn with\n",
    "    Ketapril and Naftisol. Here wer notice the difference in effectiveness\n",
    "    of the the different treatments.\n",
    "3. I noticed that the mice that I chose that was treated with Capomulin \n",
    "    displayed a negative linear relationship between time after treatment \n",
    "    and Tumor Volume. "
   ]
  },
  {
   "cell_type": "markdown",
   "metadata": {},
   "source": [
    "## Dependencies and starter code"
   ]
  },
  {
   "cell_type": "code",
   "execution_count": null,
   "metadata": {},
   "outputs": [],
   "source": [
    "\"\"\"\n",
    "1. In the line and scatter plots portion of the activity, we observed that\n",
    "the higher the mice weight, the higher the average tumor volume will be \n",
    "for the mice. \n",
    "2. In the quartiles and boxplots activity, I observed that the average\n",
    "final tumor volume for the mice that were treated with Ramican\n",
    "\"\"\""
   ]
  },
  {
   "cell_type": "code",
   "execution_count": 111,
   "metadata": {
    "scrolled": true
   },
   "outputs": [
    {
     "data": {
      "text/html": [
       "<div>\n",
       "<style scoped>\n",
       "    .dataframe tbody tr th:only-of-type {\n",
       "        vertical-align: middle;\n",
       "    }\n",
       "\n",
       "    .dataframe tbody tr th {\n",
       "        vertical-align: top;\n",
       "    }\n",
       "\n",
       "    .dataframe thead th {\n",
       "        text-align: right;\n",
       "    }\n",
       "</style>\n",
       "<table border=\"1\" class=\"dataframe\">\n",
       "  <thead>\n",
       "    <tr style=\"text-align: right;\">\n",
       "      <th></th>\n",
       "      <th>Mouse ID</th>\n",
       "      <th>Drug Regimen</th>\n",
       "      <th>Sex</th>\n",
       "      <th>Age_months</th>\n",
       "      <th>Weight (g)</th>\n",
       "      <th>Timepoint</th>\n",
       "      <th>Tumor Volume (mm3)</th>\n",
       "      <th>Metastatic Sites</th>\n",
       "    </tr>\n",
       "  </thead>\n",
       "  <tbody>\n",
       "    <tr>\n",
       "      <td>0</td>\n",
       "      <td>k403</td>\n",
       "      <td>Ramicane</td>\n",
       "      <td>Male</td>\n",
       "      <td>21</td>\n",
       "      <td>16</td>\n",
       "      <td>0</td>\n",
       "      <td>45.000000</td>\n",
       "      <td>0</td>\n",
       "    </tr>\n",
       "    <tr>\n",
       "      <td>1</td>\n",
       "      <td>k403</td>\n",
       "      <td>Ramicane</td>\n",
       "      <td>Male</td>\n",
       "      <td>21</td>\n",
       "      <td>16</td>\n",
       "      <td>5</td>\n",
       "      <td>38.825898</td>\n",
       "      <td>0</td>\n",
       "    </tr>\n",
       "    <tr>\n",
       "      <td>2</td>\n",
       "      <td>k403</td>\n",
       "      <td>Ramicane</td>\n",
       "      <td>Male</td>\n",
       "      <td>21</td>\n",
       "      <td>16</td>\n",
       "      <td>10</td>\n",
       "      <td>35.014271</td>\n",
       "      <td>1</td>\n",
       "    </tr>\n",
       "    <tr>\n",
       "      <td>3</td>\n",
       "      <td>k403</td>\n",
       "      <td>Ramicane</td>\n",
       "      <td>Male</td>\n",
       "      <td>21</td>\n",
       "      <td>16</td>\n",
       "      <td>15</td>\n",
       "      <td>34.223992</td>\n",
       "      <td>1</td>\n",
       "    </tr>\n",
       "    <tr>\n",
       "      <td>4</td>\n",
       "      <td>k403</td>\n",
       "      <td>Ramicane</td>\n",
       "      <td>Male</td>\n",
       "      <td>21</td>\n",
       "      <td>16</td>\n",
       "      <td>20</td>\n",
       "      <td>32.997729</td>\n",
       "      <td>1</td>\n",
       "    </tr>\n",
       "  </tbody>\n",
       "</table>\n",
       "</div>"
      ],
      "text/plain": [
       "  Mouse ID Drug Regimen   Sex  Age_months  Weight (g)  Timepoint  \\\n",
       "0     k403     Ramicane  Male          21          16          0   \n",
       "1     k403     Ramicane  Male          21          16          5   \n",
       "2     k403     Ramicane  Male          21          16         10   \n",
       "3     k403     Ramicane  Male          21          16         15   \n",
       "4     k403     Ramicane  Male          21          16         20   \n",
       "\n",
       "   Tumor Volume (mm3)  Metastatic Sites  \n",
       "0           45.000000                 0  \n",
       "1           38.825898                 0  \n",
       "2           35.014271                 1  \n",
       "3           34.223992                 1  \n",
       "4           32.997729                 1  "
      ]
     },
     "execution_count": 111,
     "metadata": {},
     "output_type": "execute_result"
    }
   ],
   "source": [
    "# Dependencies and Setup\n",
    "import matplotlib.pyplot as plt\n",
    "import pandas as pd\n",
    "import scipy.stats as st\n",
    "import numpy as np\n",
    "from scipy.stats import linregress\n",
    "# Study data files\n",
    "mouse_metadata = \"data/Mouse_metadata.csv\"\n",
    "study_results = \"data/Study_results.csv\"\n",
    "\n",
    "# Read the mouse data and the study results\n",
    "mouse_metadata = pd.read_csv(mouse_metadata)\n",
    "study_results = pd.read_csv(study_results)\n",
    "\n",
    "# Combine the data into a single dataset\n",
    "mouse_data = pd.merge(mouse_metadata, study_results, how =\"outer\", \n",
    "                      on = \"Mouse ID\")\n",
    "mouse_data.head()"
   ]
  },
  {
   "cell_type": "markdown",
   "metadata": {},
   "source": [
    "## Summary statistics"
   ]
  },
  {
   "cell_type": "code",
   "execution_count": 2,
   "metadata": {
    "scrolled": true
   },
   "outputs": [
    {
     "data": {
      "text/html": [
       "<div>\n",
       "<style scoped>\n",
       "    .dataframe tbody tr th:only-of-type {\n",
       "        vertical-align: middle;\n",
       "    }\n",
       "\n",
       "    .dataframe tbody tr th {\n",
       "        vertical-align: top;\n",
       "    }\n",
       "\n",
       "    .dataframe thead th {\n",
       "        text-align: right;\n",
       "    }\n",
       "</style>\n",
       "<table border=\"1\" class=\"dataframe\">\n",
       "  <thead>\n",
       "    <tr style=\"text-align: right;\">\n",
       "      <th></th>\n",
       "      <th>Treatment Name</th>\n",
       "      <th>Mean</th>\n",
       "      <th>Stand. Dev.</th>\n",
       "      <th>Variance</th>\n",
       "      <th>Median</th>\n",
       "      <th>SEM</th>\n",
       "    </tr>\n",
       "  </thead>\n",
       "  <tbody>\n",
       "    <tr>\n",
       "      <td>0</td>\n",
       "      <td>Ramicane</td>\n",
       "      <td>40.2167</td>\n",
       "      <td>23.3837</td>\n",
       "      <td>40.6732</td>\n",
       "      <td>4.83567</td>\n",
       "      <td>0.320955</td>\n",
       "    </tr>\n",
       "    <tr>\n",
       "      <td>1</td>\n",
       "      <td>Capomulin</td>\n",
       "      <td>40.6757</td>\n",
       "      <td>24.8393</td>\n",
       "      <td>41.5578</td>\n",
       "      <td>4.9839</td>\n",
       "      <td>0.329346</td>\n",
       "    </tr>\n",
       "    <tr>\n",
       "      <td>2</td>\n",
       "      <td>Infubinol</td>\n",
       "      <td>52.8848</td>\n",
       "      <td>42.8864</td>\n",
       "      <td>51.8206</td>\n",
       "      <td>6.54877</td>\n",
       "      <td>0.492236</td>\n",
       "    </tr>\n",
       "    <tr>\n",
       "      <td>3</td>\n",
       "      <td>Placebo</td>\n",
       "      <td>54.0336</td>\n",
       "      <td>60.8301</td>\n",
       "      <td>52.2889</td>\n",
       "      <td>7.79937</td>\n",
       "      <td>0.581331</td>\n",
       "    </tr>\n",
       "    <tr>\n",
       "      <td>4</td>\n",
       "      <td>Ceftamin</td>\n",
       "      <td>52.5912</td>\n",
       "      <td>39.0694</td>\n",
       "      <td>51.7762</td>\n",
       "      <td>6.25056</td>\n",
       "      <td>0.469821</td>\n",
       "    </tr>\n",
       "    <tr>\n",
       "      <td>5</td>\n",
       "      <td>Stelasyn</td>\n",
       "      <td>54.2331</td>\n",
       "      <td>59.1221</td>\n",
       "      <td>52.4317</td>\n",
       "      <td>7.68909</td>\n",
       "      <td>0.573111</td>\n",
       "    </tr>\n",
       "    <tr>\n",
       "      <td>6</td>\n",
       "      <td>Zoniferol</td>\n",
       "      <td>53.2365</td>\n",
       "      <td>48.2667</td>\n",
       "      <td>51.8185</td>\n",
       "      <td>6.94742</td>\n",
       "      <td>0.516398</td>\n",
       "    </tr>\n",
       "    <tr>\n",
       "      <td>7</td>\n",
       "      <td>Ketapril</td>\n",
       "      <td>55.2356</td>\n",
       "      <td>68.1889</td>\n",
       "      <td>53.6987</td>\n",
       "      <td>8.25766</td>\n",
       "      <td>0.60386</td>\n",
       "    </tr>\n",
       "    <tr>\n",
       "      <td>8</td>\n",
       "      <td>Propriva</td>\n",
       "      <td>52.3226</td>\n",
       "      <td>42.088</td>\n",
       "      <td>50.8546</td>\n",
       "      <td>6.48753</td>\n",
       "      <td>0.512884</td>\n",
       "    </tr>\n",
       "    <tr>\n",
       "      <td>9</td>\n",
       "      <td>Naftisol</td>\n",
       "      <td>54.3316</td>\n",
       "      <td>65.8177</td>\n",
       "      <td>52.5093</td>\n",
       "      <td>8.11281</td>\n",
       "      <td>0.596466</td>\n",
       "    </tr>\n",
       "  </tbody>\n",
       "</table>\n",
       "</div>"
      ],
      "text/plain": [
       "  Treatment Name     Mean Stand. Dev. Variance   Median       SEM\n",
       "0       Ramicane  40.2167     23.3837  40.6732  4.83567  0.320955\n",
       "1      Capomulin  40.6757     24.8393  41.5578   4.9839  0.329346\n",
       "2      Infubinol  52.8848     42.8864  51.8206  6.54877  0.492236\n",
       "3        Placebo  54.0336     60.8301  52.2889  7.79937  0.581331\n",
       "4       Ceftamin  52.5912     39.0694  51.7762  6.25056  0.469821\n",
       "5       Stelasyn  54.2331     59.1221  52.4317  7.68909  0.573111\n",
       "6      Zoniferol  53.2365     48.2667  51.8185  6.94742  0.516398\n",
       "7       Ketapril  55.2356     68.1889  53.6987  8.25766   0.60386\n",
       "8       Propriva  52.3226      42.088  50.8546  6.48753  0.512884\n",
       "9       Naftisol  54.3316     65.8177  52.5093  8.11281  0.596466"
      ]
     },
     "execution_count": 2,
     "metadata": {},
     "output_type": "execute_result"
    }
   ],
   "source": [
    "# Generate a summary statistics table of mean, median, variance, standard deviation, and SEM of the tumor volume for each regimen\n",
    "\n",
    "\"\"\"\n",
    "In this cell, I will access that data in the data frame for each regimen, \n",
    "perform the required statistical calculations on the data, and add the \n",
    "calculated values to a list so as to add these values to a combined data\n",
    "frame once everything is calculated\n",
    "\"\"\"\n",
    "\n",
    "#-------------------------------RAMICANE---------------------------------\n",
    "\n",
    "ramicane = mouse_data.loc[mouse_data['Drug Regimen'] == 'Ramicane']\n",
    "ram_mean = np.mean(ramicane['Tumor Volume (mm3)'])\n",
    "ram_var = np.var(ramicane['Tumor Volume (mm3)'])\n",
    "ram_median = np.median(ramicane['Tumor Volume (mm3)'])\n",
    "ram_stdev = np.std(ramicane['Tumor Volume (mm3)'])\n",
    "ram_sem = st.sem(ramicane['Tumor Volume (mm3)'])\n",
    "\n",
    "ram_data = [\"Ramicane\", ram_mean, ram_var, ram_median, ram_stdev, ram_sem]\n",
    "\n",
    "#------------------------------CAPOMULIN---------------------------------\n",
    "\n",
    "capomulin = mouse_data.loc[mouse_data['Drug Regimen'] == 'Capomulin']\n",
    "cap_mean = np.mean(capomulin['Tumor Volume (mm3)'])\n",
    "cap_var = np.var(capomulin['Tumor Volume (mm3)'])\n",
    "cap_median = np.median(capomulin['Tumor Volume (mm3)'])\n",
    "cap_stdev = np.std(capomulin['Tumor Volume (mm3)'])\n",
    "cap_sem = st.sem(capomulin['Tumor Volume (mm3)'])\n",
    "\n",
    "cap_data = [\"Capomulin\", cap_mean, cap_var, cap_median, cap_stdev, cap_sem]\n",
    "\n",
    "#------------------------------INFUBINOL---------------------------------\n",
    "\n",
    "infubinol = mouse_data.loc[mouse_data['Drug Regimen'] == 'Infubinol']\n",
    "inf_mean = np.mean(infubinol['Tumor Volume (mm3)'])\n",
    "inf_var = np.var(infubinol['Tumor Volume (mm3)'])\n",
    "inf_median = np.median(infubinol['Tumor Volume (mm3)'])\n",
    "inf_stdev = np.std(infubinol['Tumor Volume (mm3)'])\n",
    "inf_sem = st.sem(infubinol['Tumor Volume (mm3)'])\n",
    "\n",
    "inf_data = [\"Infubinol\", inf_mean, inf_var, inf_median, inf_stdev, inf_sem]\n",
    "\n",
    "#-------------------------------PLACEBO----------------------------------\n",
    "\n",
    "placebo = mouse_data.loc[mouse_data['Drug Regimen'] == 'Placebo']\n",
    "cebo_mean = np.mean(placebo['Tumor Volume (mm3)'])\n",
    "cebo_var = np.var(placebo['Tumor Volume (mm3)'])\n",
    "cebo_median = np.median(placebo['Tumor Volume (mm3)'])\n",
    "cebo_stdev = np.std(placebo['Tumor Volume (mm3)'])\n",
    "cebo_sem = st.sem(placebo['Tumor Volume (mm3)'])\n",
    "\n",
    "cebo_data = [\"Placebo\", cebo_mean, cebo_var, cebo_median, cebo_stdev, cebo_sem]\n",
    "\n",
    "#------------------------------CEFTAMIN---------------------------------\n",
    "\n",
    "ceftamin = mouse_data.loc[mouse_data['Drug Regimen'] == 'Ceftamin']\n",
    "cef_mean = np.mean(ceftamin['Tumor Volume (mm3)'])\n",
    "cef_var = np.var(ceftamin['Tumor Volume (mm3)'])\n",
    "cef_median = np.median(ceftamin['Tumor Volume (mm3)'])\n",
    "cef_stdev = np.std(ceftamin['Tumor Volume (mm3)'])\n",
    "cef_sem = st.sem(ceftamin['Tumor Volume (mm3)'])\n",
    "\n",
    "cef_data = [\"Ceftamin\", cef_mean, cef_var, cef_median, cef_stdev, cef_sem]\n",
    "\n",
    "#-----------------------------STELASYN-----------------------------------\n",
    "stelasyn = mouse_data.loc[mouse_data['Drug Regimen'] == 'Stelasyn']\n",
    "stel_mean = np.mean(stelasyn['Tumor Volume (mm3)'])\n",
    "stel_var = np.var(stelasyn['Tumor Volume (mm3)'])\n",
    "stel_median = np.median(stelasyn['Tumor Volume (mm3)'])\n",
    "stel_stdev = np.std(stelasyn['Tumor Volume (mm3)'])\n",
    "stel_sem = st.sem(stelasyn['Tumor Volume (mm3)'])\n",
    "\n",
    "stel_data = [\"Stelasyn\", stel_mean, stel_var, stel_median, stel_stdev, stel_sem]\n",
    "\n",
    "#------------------------------ZONIFEROL---------------------------------\n",
    "\n",
    "zoniferol = mouse_data.loc[mouse_data['Drug Regimen'] == 'Zoniferol']\n",
    "zon_mean = np.mean(zoniferol['Tumor Volume (mm3)'])\n",
    "zon_var = np.var(zoniferol['Tumor Volume (mm3)'])\n",
    "zon_median = np.median(zoniferol['Tumor Volume (mm3)'])\n",
    "zon_stdev = np.std(zoniferol['Tumor Volume (mm3)'])\n",
    "zon_sem = st.sem(zoniferol['Tumor Volume (mm3)'])\n",
    "\n",
    "zon_data = [\"Zoniferol\", zon_mean, zon_var, zon_median, zon_stdev, zon_sem]\n",
    "\n",
    "#-------------------------------KETAPRIL---------------------------------\n",
    "\n",
    "ketapril = mouse_data.loc[mouse_data['Drug Regimen'] == 'Ketapril']\n",
    "ket_mean = np.mean(ketapril['Tumor Volume (mm3)'])\n",
    "ket_var = np.var(ketapril['Tumor Volume (mm3)'])\n",
    "ket_median = np.median(ketapril['Tumor Volume (mm3)'])\n",
    "ket_stdev = np.std(ketapril['Tumor Volume (mm3)'])\n",
    "ket_sem = st.sem(ketapril['Tumor Volume (mm3)'])\n",
    "\n",
    "ket_data = [\"Ketapril\", ket_mean, ket_var, ket_median, ket_stdev, ket_sem]\n",
    "\n",
    "#-------------------------------PROPRIVA---------------------------------\n",
    "\n",
    "propriva = mouse_data.loc[mouse_data['Drug Regimen'] == 'Propriva']\n",
    "pro_mean = np.mean(propriva['Tumor Volume (mm3)'])\n",
    "pro_var = np.var(propriva['Tumor Volume (mm3)'])\n",
    "pro_median = np.median(propriva['Tumor Volume (mm3)'])\n",
    "pro_stdev = np.std(propriva['Tumor Volume (mm3)'])\n",
    "pro_sem = st.sem(propriva['Tumor Volume (mm3)'])\n",
    "\n",
    "pro_data = [\"Propriva\", pro_mean, pro_var, pro_median, pro_stdev, pro_sem]\n",
    "\n",
    "#-------------------------------NAFTISOL---------------------------------\n",
    "naftisol = mouse_data.loc[mouse_data['Drug Regimen'] == 'Naftisol']\n",
    "naf_mean = np.mean(naftisol['Tumor Volume (mm3)'])\n",
    "naf_var = np.var(naftisol['Tumor Volume (mm3)'])\n",
    "naf_median = np.median(naftisol['Tumor Volume (mm3)'])\n",
    "naf_stdev = np.std(naftisol['Tumor Volume (mm3)'])\n",
    "naf_sem = st.sem(naftisol['Tumor Volume (mm3)'])\n",
    "\n",
    "naf_data = [\"Naftisol\", naf_mean, naf_var, naf_median, naf_stdev, naf_sem]\n",
    "\n",
    "#Create a data frame and assign it column names that our calculated data will\n",
    "#correspond to \n",
    "combined_data = pd.DataFrame(columns = {\"Treatment Name\", \"Mean\", \"Variance\", \"Median\", \"Stand. Dev.\",\n",
    "                           \"SEM\"}, index = [0, 1, 2, 3, 4, 5, 6, 7, 8, 9])\n",
    "#For some reason the columns came in out of order so i will rename them\n",
    "#here\n",
    "combined_data = combined_data.rename(columns = {\"SEM\" :\"Variance\", \n",
    "                                               \"Variance\": \"Median\",\n",
    "                                               \"Median\": \"SEM\"})\n",
    "#Use the index numbers in the data frame to add in all of our rows of data\n",
    "combined_data.loc[0] = ram_data\n",
    "combined_data.loc[1] = cap_data\n",
    "combined_data.loc[2] = inf_data\n",
    "combined_data.loc[3] = cebo_data\n",
    "combined_data.loc[4] = cef_data\n",
    "combined_data.loc[5] = stel_data\n",
    "combined_data.loc[6] = zon_data\n",
    "combined_data.loc[7] = ket_data\n",
    "combined_data.loc[8] = pro_data\n",
    "combined_data.loc[9] = naf_data\n",
    "combined_data"
   ]
  },
  {
   "cell_type": "markdown",
   "metadata": {},
   "source": [
    "## Bar plots"
   ]
  },
  {
   "cell_type": "code",
   "execution_count": 3,
   "metadata": {
    "scrolled": true
   },
   "outputs": [
    {
     "data": {
      "image/png": "[encoded data removed]",
      "text/plain": [
       "<Figure size 432x288 with 1 Axes>"
      ]
     },
     "metadata": {
      "needs_background": "light"
     },
     "output_type": "display_data"
    }
   ],
   "source": [
    "# Generate a bar plot showing number of data points for each treatment regimen using pandas\n",
    "ram_count = len(ramicane)\n",
    "cap_count = len(capomulin)\n",
    "cebo_count = len(placebo)\n",
    "inf_count = len(infubinol)\n",
    "cef_count = len(ceftamin)\n",
    "stel_count = len(stelasyn)\n",
    "zon_count = len(zoniferol)\n",
    "ket_count = len(ketapril)\n",
    "prop_count = len(propriva)\n",
    "naf_count = len(naftisol)\n",
    "\n",
    "#Make a list of y axis values that are composed of the number of data points\n",
    "#for each treatment regimen\n",
    "y_axis = [ram_count, cap_count, cebo_count, inf_count, cef_count, stel_count,\n",
    "         zon_count, ket_count, prop_count, naf_count]\n",
    "#Make a list of x axis values that is composed of the names of all the \n",
    "#treatment regimens\n",
    "x_axis = [\"Ramicane\", \"Capomulin\", \"Placebo\", \"Infubinol\", \"Ceftamin\", \"Stelasyn\",\n",
    "         \"Zoniferol\", \"Ketapril\", \"Propriva\", \"Naftisol\"]\n",
    "\n",
    "#Make a dict that is composed of the y and x axis that we will use to plot\n",
    "#our data\n",
    "regimen_dict = {\"Regimen Name\": x_axis, \"Number of Data Points\": y_axis}\n",
    "\n",
    "#Convert our dictionary to a data frame and plot the data\n",
    "regimen_points = pd.DataFrame(regimen_dict, index=x_axis)\n",
    "regimen_points\n",
    "ax = regimen_points.plot.bar(color=\"orange\")"
   ]
  },
  {
   "cell_type": "code",
   "execution_count": 4,
   "metadata": {},
   "outputs": [
    {
     "data": {
      "image/png": "[encoded data removed]",
      "text/plain": [
       "<Figure size 720x360 with 1 Axes>"
      ]
     },
     "metadata": {
      "needs_background": "light"
     },
     "output_type": "display_data"
    }
   ],
   "source": [
    "# Generate a bar plot showing number of data points for each treatment regimen using pyplot\n",
    "plt.figure(figsize = (10, 5))\n",
    "plt.bar(x_axis, y_axis)\n",
    "plt.xlabel(\"Regimen Name\")\n",
    "plt.ylabel(\"Number of Data Points\")\n",
    "plt.title(\"Number of Data Points for Each Treatment Regimen\")\n",
    "plt.show()"
   ]
  },
  {
   "cell_type": "markdown",
   "metadata": {},
   "source": [
    "## Pie plots"
   ]
  },
  {
   "cell_type": "code",
   "execution_count": 113,
   "metadata": {},
   "outputs": [
    {
     "data": {
      "image/png": "[encoded data removed]",
      "text/plain": [
       "<Figure size 360x360 with 1 Axes>"
      ]
     },
     "metadata": {},
     "output_type": "display_data"
    }
   ],
   "source": [
    "# Generate a pie plot showing the distribution of female versus male mice using pandas\n",
    "\n",
    "#Get a count of the male and female subjects\n",
    "male_count = len(mouse_data[mouse_data[\"Sex\"] == \"Male\"])\n",
    "female_count = len(mouse_data[mouse_data[\"Sex\"] == \"Female\"])\n",
    "explode = (0.1, 0)\n",
    "\n",
    "#Convert the data into a data frame so as to make it easier to plot\n",
    "df = pd.DataFrame({\"Distribution Count\": [male_count, female_count]},\n",
    "                 index=[\"Male Count\", \"Female Count\"])\n",
    "plot = df.plot.pie(y=\"Distribution Count\", figsize=(5,5), explode = explode,\n",
    "                  shadow=True, startangle=180, autopct=\"%1.1f%%\")"
   ]
  },
  {
   "cell_type": "code",
   "execution_count": 114,
   "metadata": {},
   "outputs": [
    {
     "data": {
      "image/png": "[encoded data removed]",
      "text/plain": [
       "<Figure size 432x288 with 1 Axes>"
      ]
     },
     "metadata": {},
     "output_type": "display_data"
    }
   ],
   "source": [
    "# Generate a pie plot showing the distribution of female versus male mice using pyplot\n",
    "#Get a count of the total male and female subjects\n",
    "male_count = len(mouse_data[mouse_data[\"Sex\"] == \"Male\"])\n",
    "female_count = len(mouse_data[mouse_data[\"Sex\"] == \"Female\"])\n",
    "male_female = [male_count, female_count]\n",
    "labels = [\"Male\", \"Female\"]\n",
    "explode = (0.1, 0)\n",
    "colors = [\"Green\", \"Pink\"]\n",
    "plt.pie(male_female, explode=explode, labels=labels, colors=colors, \n",
    "        autopct=\"%1.1f%%\", shadow=True, startangle=180)\n",
    "plt.title(\"Female Versus Male Mice Distribution in the Data Set\")\n",
    "plt.show()"
   ]
  },
  {
   "cell_type": "markdown",
   "metadata": {},
   "source": [
    "## Quartiles, outliers and boxplots"
   ]
  },
  {
   "cell_type": "code",
   "execution_count": 123,
   "metadata": {},
   "outputs": [
    {
     "name": "stdout",
     "output_type": "stream",
     "text": [
      "There are no potential outliers\n",
      "-9.513252184999999\n",
      "105.135493215\n",
      "22.05012627\n",
      "72.2267309\n"
     ]
    }
   ],
   "source": [
    "# Calculate the final tumor volume of each mouse across four of the most promising treatment regimens. Calculate the IQR and quantitatively determine if there are any potential outliers.\n",
    "#Ramicane, Capomulin, Ketapril, Naftisol\n",
    "\n",
    "#Retrieve the final tumor volume for each mouse across the four most \n",
    "#promising treatment regimens\n",
    "ram_final = ramicane[ramicane[\"Timepoint\"] == 45]\n",
    "ram_final\n",
    "cap_final = capomulin[capomulin[\"Timepoint\"] == 45]\n",
    "cap_final\n",
    "inf_final = infubinol[infubinol[\"Timepoint\"] == 45]\n",
    "inf_final\n",
    "cef_final = ceftamin[ceftamin[\"Timepoint\"] == 45]\n",
    "cef_final\n",
    "\n",
    "#Merge all of the data gathered together\n",
    "first_two = pd.merge(ram_final, cap_final, how=\"outer\")\n",
    "first_three = pd.merge(first_two, inf_final, how=\"outer\")\n",
    "all_final = pd.merge(first_three, cef_final, how=\"outer\")\n",
    "all_final\n",
    "\n",
    "#Gather all of the final volume values together\n",
    "final_volume = all_final['Tumor Volume (mm3)']\n",
    "quartiles = final_volume.quantile([.25, .5, .75])\n",
    "lowerq = quartiles[0.25]\n",
    "upperq = quartiles[0.75]\n",
    "iqr = upperq - lowerq\n",
    "iqr\n",
    "\n",
    "#Caclulate the upper and lower bound and use these values to determine\n",
    "#if there are any potential outliers\n",
    "lower_bound = lowerq - (1.5*iqr)\n",
    "upper_bound = upperq + (1.5*iqr)\n",
    "\n",
    "if final_volume.min() < lower_bound or final_volume.max() > upper_bound:\n",
    "    print(\"Yes, there are potential outliers\")\n",
    "else:\n",
    "    print(\"There are no potential outliers\")\n",
    "print(lower_bound)\n",
    "print(upper_bound)\n",
    "final_volume\n",
    "print(final_volume.min())\n",
    "print(final_volume.max())"
   ]
  },
  {
   "cell_type": "code",
   "execution_count": 16,
   "metadata": {},
   "outputs": [
    {
     "data": {
      "image/png": "[encoded data removed]",
      "text/plain": [
       "<Figure size 432x288 with 1 Axes>"
      ]
     },
     "metadata": {
      "needs_background": "light"
     },
     "output_type": "display_data"
    }
   ],
   "source": [
    "# Generate a box plot of the final tumor volume of each mouse across four regimens of interest\n",
    "plt.subplots()\n",
    "\n",
    "#We already have variables that store the final tumor volume for each mouse\n",
    "#Here we will target the tumor volume column and store those sole values\n",
    "#in their respective lists so as to plot them later on\n",
    "ram_volume = ram_final['Tumor Volume (mm3)'].tolist()\n",
    "ram_volume\n",
    "cap_volume = cap_final['Tumor Volume (mm3)'].tolist()\n",
    "cap_volume\n",
    "ket_volume = ket_final['Tumor Volume (mm3)'].tolist()\n",
    "ket_volume\n",
    "naf_volume = naf_final['Tumor Volume (mm3)'].tolist()\n",
    "naf_volume\n",
    "\n",
    "#Make a list that consists of all of the final tumor volumes for each mouse\n",
    "#across four regimens of interest\n",
    "data =[ram_volume, cap_volume, ket_volume, naf_volume]\n",
    "\n",
    "#Plot and label the data\n",
    "plt.boxplot(data, labels=xticks)\n",
    "plt.title(\"Final Tumor Volume for each Mouse Across Four Top Regimen\")\n",
    "plt.xlabel(\"Regimen Name\")\n",
    "plt.ylabel(\"Final Tumor Volume\")\n",
    "plt.show()\n",
    "xticks = [\"Ramicane\", \"Capomulin\", \"Ketapril\", \"Naftisol\"]"
   ]
  },
  {
   "cell_type": "markdown",
   "metadata": {},
   "source": [
    "## Line and scatter plots"
   ]
  },
  {
   "cell_type": "code",
   "execution_count": 25,
   "metadata": {},
   "outputs": [
    {
     "data": {
      "image/png": "[encoded data removed]",
      "text/plain": [
       "<Figure size 432x288 with 1 Axes>"
      ]
     },
     "metadata": {
      "needs_background": "light"
     },
     "output_type": "display_data"
    }
   ],
   "source": [
    "# Generate a line plot of time point versus tumor volume for a mouse treated with Capomulin\n",
    "\n",
    "#Access all of the Capomulin data\n",
    "capomulin_data = mouse_data[mouse_data['Drug Regimen'] == \"Capomulin\"]\n",
    "\n",
    "#Get the data for one mouse\n",
    "capomulin_mouse = capomulin_data[capomulin_data[\"Mouse ID\"] == \"s185\"]\n",
    "capomulin_mouse\n",
    "\n",
    "#Plot the data\n",
    "plt.plot(capomulin_mouse['Timepoint'], capomulin_mouse['Tumor Volume (mm3)'], color=\"red\")\n",
    "plt.title(\"Time Point Versus Tumor Volume for Mouse s185\")\n",
    "plt.xlabel(\"Timepoint\")\n",
    "plt.ylabel(\"Tumor Volume (mm3)\")\n",
    "plt.xlim(0, 50, 10)\n",
    "plt.grid()\n",
    "plt.show()"
   ]
  },
  {
   "cell_type": "code",
   "execution_count": 125,
   "metadata": {},
   "outputs": [
    {
     "data": {
      "image/png": "[encoded data removed]",
      "text/plain": [
       "<Figure size 432x288 with 1 Axes>"
      ]
     },
     "metadata": {
      "needs_background": "light"
     },
     "output_type": "display_data"
    },
    {
     "data": {
      "text/plain": [
       "[17.0,\n",
       " 15.0,\n",
       " 17.0,\n",
       " 17.0,\n",
       " 17.0,\n",
       " 17.0,\n",
       " 17.0,\n",
       " 19.0,\n",
       " 17.0,\n",
       " 20.0,\n",
       " 21.0,\n",
       " 19.0,\n",
       " 19.0,\n",
       " 21.0,\n",
       " 22.0,\n",
       " 21.0,\n",
       " 23.0,\n",
       " 23.0,\n",
       " 21.0,\n",
       " 22.0,\n",
       " 23.0,\n",
       " 21.0,\n",
       " 25.0,\n",
       " 24.0,\n",
       " 25.0]"
      ]
     },
     "execution_count": 125,
     "metadata": {},
     "output_type": "execute_result"
    }
   ],
   "source": [
    "#Generate a scatter plot of mouse weight versus average tumor volume for the Capomulin regimen\n",
    "#Create a list of all of the unique Mouse ID's for the mice treated with\n",
    "#Capomulin\n",
    "mouse_list = capomulin_data[\"Mouse ID\"].unique().tolist()\n",
    "\n",
    "#Initialize empty lists that I will use to store the averages for the \n",
    "#tumor volumes and all of the weights of the mice\n",
    "all_averages = []\n",
    "weight_list = []\n",
    "\n",
    "#Create a for loop that uses mouse_list to calculate the average tumor volumes\n",
    "#and store the weight values for the mice\n",
    "for x in mouse_list:\n",
    "    all_averages.append(np.mean(capomulin_data[capomulin_data[\"Mouse ID\"] == x]['Tumor Volume (mm3)'].tolist()))\n",
    "    weight_list.append(np.mean(capomulin_data[capomulin_data[\"Mouse ID\"] == x]['Weight (g)'].tolist()))\n",
    "    \n",
    "all_averages\n",
    "weight_list\n",
    "\n",
    "#Plot the data\n",
    "scatter = plt.scatter(weight_list, all_averages, color=\"green\")\n",
    "plt.title(\"Mouse Weight vs. Average Tumor Volume for Capomulin Regimen\")\n",
    "plt.xlabel(\"Mouse Weight (g)\")\n",
    "plt.ylabel(\"Average Tumor Volume (mm3)\")\n",
    "\n",
    "plt.grid()\n",
    "plt.show()\n",
    "mouse_list"
   ]
  },
  {
   "cell_type": "code",
   "execution_count": 116,
   "metadata": {},
   "outputs": [
    {
     "name": "stdout",
     "output_type": "stream",
     "text": [
      "                            Average Tumor Volume (mm3)  Mice Weight (g)\n",
      "Average Tumor Volume (mm3)                    1.000000         0.841936\n",
      "Mice Weight (g)                               0.841936         1.000000\n",
      "y = 0.95x + 21.55\n"
     ]
    },
    {
     "data": {
      "image/png": "[encoded data removed]",
      "text/plain": [
       "<Figure size 432x288 with 1 Axes>"
      ]
     },
     "metadata": {
      "needs_background": "light"
     },
     "output_type": "display_data"
    }
   ],
   "source": [
    "# Calculate the correlation coefficient and linear regression model for mouse weight and average tumor volume for the Capomulin regimen\n",
    "\n",
    "#Create a data frame that is composed of the averages for the mice weights\n",
    "#and the actual mice weights\n",
    "df = pd.DataFrame({\"Average Tumor Volume (mm3)\": all_averages, \n",
    "                   \"Mice Weight (g)\": weight_list})\n",
    "#Print the correlation coefficent using the pearson method\n",
    "print(df.corr(method=\"pearson\"))\n",
    "#Print the equation for the line of best fit\n",
    "print(line_eq)\n",
    "\n",
    "#define the x axis as the weights of the mice\n",
    "x_values = weight_list\n",
    "#Define the y axis as the values for the average tumor volumes\n",
    "y_values = all_averages\n",
    "\n",
    "#Run the linear regression\n",
    "(slope, intercept, rvalue, pvalue, stderr) = linregress(x_values, y_values)\n",
    "regress_values = df['Mice Weight (g)'] * slope + intercept\n",
    "line_eq = \"y = \" + str(round(slope,2)) + \"x + \" + str(round(intercept,2))\n",
    "regression = plt.scatter(x_values,y_values)\n",
    "plt.plot(x_values,regress_values,\"r-\")\n",
    "#plt.annotate(line_eq,(6,10),fontsize=15,color=\"red\")\n",
    "plt.xlabel('Mouse Weight(g)')\n",
    "plt.ylabel('Average Tumor Volume (mm3)')\n",
    "plt.title(\"Linear Regression Model for Mouse Weight vs. Average Tumor Volume\")\n",
    "scatter\n",
    "plt.grid()\n",
    "plt.show()"
   ]
  },
  {
   "cell_type": "code",
   "execution_count": null,
   "metadata": {},
   "outputs": [],
   "source": []
  }
 ],
 "metadata": {
  "anaconda-cloud": {},
  "kernelspec": {
   "display_name": "Python 3",
   "language": "python",
   "name": "python3"
  },
  "language_info": {
   "codemirror_mode": {
    "name": "ipython",
    "version": 3
   },
   "file_extension": ".py",
   "mimetype": "text/x-python",
   "name": "python",
   "nbconvert_exporter": "python",
   "pygments_lexer": "ipython3",
   "version": "3.7.4"
  }
 },
 "nbformat": 4,
 "nbformat_minor": 2
}
